{
  "nbformat": 4,
  "nbformat_minor": 0,
  "metadata": {
    "colab": {
      "provenance": []
    },
    "kernelspec": {
      "name": "python3",
      "display_name": "Python 3"
    },
    "language_info": {
      "name": "python"
    }
  },
  "cells": [
    {
      "cell_type": "markdown",
      "source": [
        "#Pytorch .....lesgoooo"
      ],
      "metadata": {
        "id": "fJyN6jiA2ZBD"
      }
    },
    {
      "cell_type": "code",
      "source": [
        "import torch\n",
        "import pandas as pd\n",
        "import numpy as np\n",
        "import matplotlib.pyplot as plt\n",
        "\n",
        "torch.__version__"
      ],
      "metadata": {
        "colab": {
          "base_uri": "https://localhost:8080/",
          "height": 36
        },
        "id": "HOQ4xP4M8Ge0",
        "outputId": "2161b2c0-acd6-465e-9f92-ae6b92b67c33"
      },
      "execution_count": null,
      "outputs": [
        {
          "output_type": "execute_result",
          "data": {
            "text/plain": [
              "'2.5.1+cu121'"
            ],
            "application/vnd.google.colaboratory.intrinsic+json": {
              "type": "string"
            }
          },
          "metadata": {},
          "execution_count": 123
        }
      ]
    },
    {
      "cell_type": "code",
      "source": [
        "#Intro to the Tensors'\n",
        "\n",
        "#Scalar\n",
        "scalar = torch.tensor(7)\n",
        "print(f\"This is scalar {scalar} and its dimensions is {scalar.ndim}\")\n"
      ],
      "metadata": {
        "colab": {
          "base_uri": "https://localhost:8080/"
        },
        "id": "pnc8K0B-75Tx",
        "outputId": "a1a7702e-14e5-4c7c-c4b4-4ab2d45be65e"
      },
      "execution_count": null,
      "outputs": [
        {
          "output_type": "stream",
          "name": "stdout",
          "text": [
            "This is scalar 7 and its dimensions is 0\n"
          ]
        }
      ]
    },
    {
      "cell_type": "code",
      "source": [
        "#Get tensor back as python int\n",
        "scalar.item()"
      ],
      "metadata": {
        "colab": {
          "base_uri": "https://localhost:8080/"
        },
        "id": "VkseB9iG8nRN",
        "outputId": "41ec0a5c-632e-4569-c2b5-3d9dfcf5d076"
      },
      "execution_count": null,
      "outputs": [
        {
          "output_type": "execute_result",
          "data": {
            "text/plain": [
              "7"
            ]
          },
          "metadata": {},
          "execution_count": 7
        }
      ]
    },
    {
      "cell_type": "code",
      "source": [
        "#Vector\n",
        "vector = torch.tensor([7,7])\n",
        "vector"
      ],
      "metadata": {
        "colab": {
          "base_uri": "https://localhost:8080/"
        },
        "id": "Ach78YbQ86Mq",
        "outputId": "60d974b6-f1de-40c9-9bd7-bcc8517d5d44"
      },
      "execution_count": null,
      "outputs": [
        {
          "output_type": "execute_result",
          "data": {
            "text/plain": [
              "tensor([7, 7])"
            ]
          },
          "metadata": {},
          "execution_count": 10
        }
      ]
    },
    {
      "cell_type": "code",
      "source": [
        "vector.ndim"
      ],
      "metadata": {
        "colab": {
          "base_uri": "https://localhost:8080/"
        },
        "id": "7Lo0EIBm9GyZ",
        "outputId": "ba751405-1841-4551-99bb-d80f80348cd8"
      },
      "execution_count": null,
      "outputs": [
        {
          "output_type": "execute_result",
          "data": {
            "text/plain": [
              "1"
            ]
          },
          "metadata": {},
          "execution_count": 11
        }
      ]
    },
    {
      "cell_type": "code",
      "source": [
        "#Matrix\n",
        "matrix = torch.tensor([[7,8],[9,7]])\n",
        "matrix.ndim"
      ],
      "metadata": {
        "colab": {
          "base_uri": "https://localhost:8080/"
        },
        "id": "wWCMZtiJ9KhO",
        "outputId": "3943244c-e284-49c7-f3d7-5713c01263cc"
      },
      "execution_count": null,
      "outputs": [
        {
          "output_type": "execute_result",
          "data": {
            "text/plain": [
              "2"
            ]
          },
          "metadata": {},
          "execution_count": 12
        }
      ]
    },
    {
      "cell_type": "code",
      "source": [
        "matrix[1]"
      ],
      "metadata": {
        "colab": {
          "base_uri": "https://localhost:8080/"
        },
        "id": "J4CMl3CK9XZw",
        "outputId": "43419d73-7baa-4029-e956-4812b00e8070"
      },
      "execution_count": null,
      "outputs": [
        {
          "output_type": "execute_result",
          "data": {
            "text/plain": [
              "tensor([9, 7])"
            ]
          },
          "metadata": {},
          "execution_count": 13
        }
      ]
    },
    {
      "cell_type": "code",
      "source": [
        "matrix.shape"
      ],
      "metadata": {
        "colab": {
          "base_uri": "https://localhost:8080/"
        },
        "id": "vUv9y6Mh9YY2",
        "outputId": "9b91f70d-c506-4b34-8f7e-744bdb54c68f"
      },
      "execution_count": null,
      "outputs": [
        {
          "output_type": "execute_result",
          "data": {
            "text/plain": [
              "torch.Size([2, 2])"
            ]
          },
          "metadata": {},
          "execution_count": 14
        }
      ]
    },
    {
      "cell_type": "code",
      "source": [
        "#Tensor\n",
        "tensor = torch.tensor(np.random.random((2,3,4)))\n",
        "tensor"
      ],
      "metadata": {
        "colab": {
          "base_uri": "https://localhost:8080/"
        },
        "id": "Rm9rWxnD9ZNl",
        "outputId": "cb03b050-ef1a-4af5-ae2b-0c244f633e5e"
      },
      "execution_count": null,
      "outputs": [
        {
          "output_type": "execute_result",
          "data": {
            "text/plain": [
              "tensor([[[0.9342, 0.6064, 0.0539, 0.1505],\n",
              "         [0.9836, 0.5759, 0.5257, 0.9354],\n",
              "         [0.7303, 0.7289, 0.5426, 0.0942]],\n",
              "\n",
              "        [[0.3816, 0.9558, 0.3416, 0.6058],\n",
              "         [0.4316, 0.3405, 0.5716, 0.8165],\n",
              "         [0.9389, 0.9005, 0.0346, 0.9335]]], dtype=torch.float64)"
            ]
          },
          "metadata": {},
          "execution_count": 16
        }
      ]
    },
    {
      "cell_type": "code",
      "source": [
        "tensor[0]"
      ],
      "metadata": {
        "colab": {
          "base_uri": "https://localhost:8080/"
        },
        "id": "aGBUr75H9j8O",
        "outputId": "d2a1c51b-4e74-4e38-d076-d00742db82d0"
      },
      "execution_count": null,
      "outputs": [
        {
          "output_type": "execute_result",
          "data": {
            "text/plain": [
              "tensor([[0.9342, 0.6064, 0.0539, 0.1505],\n",
              "        [0.9836, 0.5759, 0.5257, 0.9354],\n",
              "        [0.7303, 0.7289, 0.5426, 0.0942]], dtype=torch.float64)"
            ]
          },
          "metadata": {},
          "execution_count": 17
        }
      ]
    },
    {
      "cell_type": "code",
      "source": [
        "# creating the random tensors using torch\n",
        "\n",
        "random_tensor = torch.rand(3,4)\n",
        "random_tensor"
      ],
      "metadata": {
        "colab": {
          "base_uri": "https://localhost:8080/"
        },
        "id": "wvT6QH029qEN",
        "outputId": "7b778897-6027-4a74-e664-0235f38f87ef"
      },
      "execution_count": null,
      "outputs": [
        {
          "output_type": "execute_result",
          "data": {
            "text/plain": [
              "tensor([[0.5442, 0.2331, 0.0717, 0.8276],\n",
              "        [0.8031, 0.0295, 0.2316, 0.1123],\n",
              "        [0.3032, 0.7904, 0.8575, 0.7571]])"
            ]
          },
          "metadata": {},
          "execution_count": 19
        }
      ]
    },
    {
      "cell_type": "code",
      "source": [
        "# creating a random tensor with similar shape to image\n",
        "tensor = torch.rand(size = (224,224,3))\n",
        "tensor.shape, tensor.ndim"
      ],
      "metadata": {
        "colab": {
          "base_uri": "https://localhost:8080/"
        },
        "id": "qUnaWA0B-I4w",
        "outputId": "c1cf1267-20d4-44d7-b480-62a830d61b3a"
      },
      "execution_count": null,
      "outputs": [
        {
          "output_type": "execute_result",
          "data": {
            "text/plain": [
              "(torch.Size([224, 224, 3]), 3)"
            ]
          },
          "metadata": {},
          "execution_count": 24
        }
      ]
    },
    {
      "cell_type": "code",
      "source": [
        "# Creating tensors with zero and one\n",
        "torch.ones(size = (2,3)), torch.zeros(size = (3,4))"
      ],
      "metadata": {
        "colab": {
          "base_uri": "https://localhost:8080/"
        },
        "id": "klFt8qhg-grl",
        "outputId": "9b930812-a1cb-43e3-f2ee-714ed610416d"
      },
      "execution_count": null,
      "outputs": [
        {
          "output_type": "execute_result",
          "data": {
            "text/plain": [
              "(tensor([[1., 1., 1.],\n",
              "         [1., 1., 1.]]),\n",
              " tensor([[0., 0., 0., 0.],\n",
              "         [0., 0., 0., 0.],\n",
              "         [0., 0., 0., 0.]]))"
            ]
          },
          "metadata": {},
          "execution_count": 25
        }
      ]
    },
    {
      "cell_type": "code",
      "source": [
        "# Creating the tensors in a particular range\n",
        "torch.arange(start = 0, end = 10, step = 2)"
      ],
      "metadata": {
        "colab": {
          "base_uri": "https://localhost:8080/"
        },
        "id": "5YlxIr0h-uqu",
        "outputId": "115518d7-858b-4480-b592-640277600471"
      },
      "execution_count": null,
      "outputs": [
        {
          "output_type": "execute_result",
          "data": {
            "text/plain": [
              "tensor([0, 2, 4, 6, 8])"
            ]
          },
          "metadata": {},
          "execution_count": 27
        }
      ]
    },
    {
      "cell_type": "code",
      "source": [
        "# Creating tensors like the other tensor\n",
        "torch.zeros_like(input = matrix)"
      ],
      "metadata": {
        "colab": {
          "base_uri": "https://localhost:8080/"
        },
        "id": "dYJJfEGq_E6m",
        "outputId": "b1bb953d-cfb4-40f6-ea35-e475f13285d6"
      },
      "execution_count": null,
      "outputs": [
        {
          "output_type": "execute_result",
          "data": {
            "text/plain": [
              "tensor([[0, 0],\n",
              "        [0, 0]])"
            ]
          },
          "metadata": {},
          "execution_count": 29
        }
      ]
    },
    {
      "cell_type": "code",
      "source": [
        "#Tensor datatypes"
      ],
      "metadata": {
        "id": "VOdTCUGJ_YqN"
      },
      "execution_count": null,
      "outputs": []
    },
    {
      "cell_type": "code",
      "source": [
        "torch.rand(size = (2,3)).dtype"
      ],
      "metadata": {
        "colab": {
          "base_uri": "https://localhost:8080/"
        },
        "id": "t3rQoEhu_iPD",
        "outputId": "5a2aa23a-983c-4a49-be29-dbdc77016ec6"
      },
      "execution_count": null,
      "outputs": [
        {
          "output_type": "execute_result",
          "data": {
            "text/plain": [
              "torch.float32"
            ]
          },
          "metadata": {},
          "execution_count": 39
        }
      ]
    },
    {
      "cell_type": "code",
      "source": [
        "torch.randint(0,10,size = (2,3)).dtype"
      ],
      "metadata": {
        "colab": {
          "base_uri": "https://localhost:8080/"
        },
        "id": "y9UZsjpe_mx0",
        "outputId": "28e33298-4c5a-46f3-dc5c-0daa2b6e811f"
      },
      "execution_count": null,
      "outputs": [
        {
          "output_type": "execute_result",
          "data": {
            "text/plain": [
              "torch.int64"
            ]
          },
          "metadata": {},
          "execution_count": 43
        }
      ]
    },
    {
      "cell_type": "code",
      "source": [
        "float16_tensor = torch.rand(size = (2,3) , dtype = torch.float16)\n",
        "float16_tensor.type(torch.float32).dtype"
      ],
      "metadata": {
        "colab": {
          "base_uri": "https://localhost:8080/"
        },
        "id": "2JKorm0D_w2s",
        "outputId": "c4a6ffc1-c889-40c6-d2f3-068157985019"
      },
      "execution_count": null,
      "outputs": [
        {
          "output_type": "execute_result",
          "data": {
            "text/plain": [
              "torch.float32"
            ]
          },
          "metadata": {},
          "execution_count": 45
        }
      ]
    },
    {
      "cell_type": "code",
      "source": [
        "torch.rand_like(float16_tensor)"
      ],
      "metadata": {
        "colab": {
          "base_uri": "https://localhost:8080/"
        },
        "id": "uZjvqtNwAyZt",
        "outputId": "053b66e0-370c-4cbe-c453-dbb71717ce2e"
      },
      "execution_count": null,
      "outputs": [
        {
          "output_type": "execute_result",
          "data": {
            "text/plain": [
              "tensor([[0.3154, 0.2417, 0.9766],\n",
              "        [0.4155, 0.7974, 0.7515]], dtype=torch.float16)"
            ]
          },
          "metadata": {},
          "execution_count": 46
        }
      ]
    },
    {
      "cell_type": "code",
      "source": [
        "print(f\"The device tensor is on {float16_tensor.device}\")"
      ],
      "metadata": {
        "colab": {
          "base_uri": "https://localhost:8080/"
        },
        "id": "RSBEdXHyBo1U",
        "outputId": "63c60181-5064-4d39-c585-06024f167962"
      },
      "execution_count": null,
      "outputs": [
        {
          "output_type": "stream",
          "name": "stdout",
          "text": [
            "The device tensor is on cpu\n"
          ]
        }
      ]
    },
    {
      "cell_type": "code",
      "source": [
        "# The tensors on one device cant be used to compute with the tensors on other\n"
      ],
      "metadata": {
        "id": "3cfn0HCRB5yj"
      },
      "execution_count": null,
      "outputs": []
    },
    {
      "cell_type": "code",
      "source": [
        "#Tensor manipulations\n",
        "\n",
        "A = torch.randint(0,10,size = (2,3))\n",
        "B = torch.randint_like(low = 0 , high = 10 , input = A)\n",
        "\n",
        "A,B,A+B , A-B , A*B , A/B\n"
      ],
      "metadata": {
        "colab": {
          "base_uri": "https://localhost:8080/"
        },
        "id": "KzcoKRRnCASr",
        "outputId": "13b2355e-7330-4fd0-de50-9b668b42d551"
      },
      "execution_count": null,
      "outputs": [
        {
          "output_type": "execute_result",
          "data": {
            "text/plain": [
              "(tensor([[6, 2, 2],\n",
              "         [4, 0, 1]]),\n",
              " tensor([[9, 0, 0],\n",
              "         [6, 1, 9]]),\n",
              " tensor([[15,  2,  2],\n",
              "         [10,  1, 10]]),\n",
              " tensor([[-3,  2,  2],\n",
              "         [-2, -1, -8]]),\n",
              " tensor([[54,  0,  0],\n",
              "         [24,  0,  9]]),\n",
              " tensor([[0.6667,    inf,    inf],\n",
              "         [0.6667, 0.0000, 0.1111]]))"
            ]
          },
          "metadata": {},
          "execution_count": 58
        }
      ]
    },
    {
      "cell_type": "code",
      "source": [
        "A-10 # maybe broadcasting"
      ],
      "metadata": {
        "colab": {
          "base_uri": "https://localhost:8080/"
        },
        "id": "3jxvOGykCM_y",
        "outputId": "cb5addf0-c86c-4448-e2f6-7f64537e2f8c"
      },
      "execution_count": null,
      "outputs": [
        {
          "output_type": "execute_result",
          "data": {
            "text/plain": [
              "tensor([[ -4,  -8,  -8],\n",
              "        [ -6, -10,  -9]])"
            ]
          },
          "metadata": {},
          "execution_count": 59
        }
      ]
    },
    {
      "cell_type": "code",
      "source": [
        "torch.matmul(A,B.T)"
      ],
      "metadata": {
        "colab": {
          "base_uri": "https://localhost:8080/"
        },
        "id": "Z56913aqC53P",
        "outputId": "6988069a-58a6-4432-b95e-fd75fc1a8043"
      },
      "execution_count": null,
      "outputs": [
        {
          "output_type": "execute_result",
          "data": {
            "text/plain": [
              "tensor([[54, 56],\n",
              "        [36, 33]])"
            ]
          },
          "metadata": {},
          "execution_count": 60
        }
      ]
    },
    {
      "cell_type": "code",
      "source": [
        "A @ B.T"
      ],
      "metadata": {
        "colab": {
          "base_uri": "https://localhost:8080/"
        },
        "id": "U4zDxHzmC_sw",
        "outputId": "81835bcf-f4b6-45e1-b66f-fd365966cea1"
      },
      "execution_count": null,
      "outputs": [
        {
          "output_type": "execute_result",
          "data": {
            "text/plain": [
              "tensor([[54, 56],\n",
              "        [36, 33]])"
            ]
          },
          "metadata": {},
          "execution_count": 63
        }
      ]
    },
    {
      "cell_type": "code",
      "source": [
        "torch.mm(A,B.T)"
      ],
      "metadata": {
        "colab": {
          "base_uri": "https://localhost:8080/"
        },
        "id": "WwiT0970DMBf",
        "outputId": "f1c22756-48f9-4692-d2a3-761ac2996c82"
      },
      "execution_count": null,
      "outputs": [
        {
          "output_type": "execute_result",
          "data": {
            "text/plain": [
              "tensor([[54, 56],\n",
              "        [36, 33]])"
            ]
          },
          "metadata": {},
          "execution_count": 65
        }
      ]
    },
    {
      "cell_type": "code",
      "source": [
        "# Tensor aggregation i.e min , mean , sum etc\n",
        "print(f\"the minimum value is {A.min()} or {torch.min(A)}\")"
      ],
      "metadata": {
        "colab": {
          "base_uri": "https://localhost:8080/"
        },
        "id": "lJEfMmzGEHJO",
        "outputId": "ce05160d-dd04-4712-8200-8fe8ecce5a96"
      },
      "execution_count": null,
      "outputs": [
        {
          "output_type": "stream",
          "name": "stdout",
          "text": [
            "the minimum value is 0 or 0\n"
          ]
        }
      ]
    },
    {
      "cell_type": "code",
      "source": [
        "print(f\"The maximum value is {A.max()}\")\n",
        "print(f\"The mean of the value is {A.type(torch.float32).mean()}\")"
      ],
      "metadata": {
        "colab": {
          "base_uri": "https://localhost:8080/"
        },
        "id": "lHNMdeGjEo0j",
        "outputId": "3b2bbce1-0d0b-480a-a71e-4a12d0d38010"
      },
      "execution_count": null,
      "outputs": [
        {
          "output_type": "stream",
          "name": "stdout",
          "text": [
            "The maximum value is 6\n",
            "The mean of the value is 2.5\n"
          ]
        }
      ]
    },
    {
      "cell_type": "code",
      "source": [
        "#Finding the index of the minimum value\n",
        "A[0] = -10\n",
        "A.argmin()"
      ],
      "metadata": {
        "colab": {
          "base_uri": "https://localhost:8080/"
        },
        "id": "xS3BLn9-E3rl",
        "outputId": "281f5cd2-d23e-41ae-8ea4-5149ac3f930c"
      },
      "execution_count": null,
      "outputs": [
        {
          "output_type": "execute_result",
          "data": {
            "text/plain": [
              "tensor(0)"
            ]
          },
          "metadata": {},
          "execution_count": 72
        }
      ]
    },
    {
      "cell_type": "code",
      "source": [
        "#Reshape , stacking , squeezuing and unsqueezing\n",
        "\n",
        "#reshape\n",
        "A = torch.arange(0,12,1)\n",
        "reshape  = A.reshape(2,3,2)\n",
        "reshape , reshape.size , reshape.shape"
      ],
      "metadata": {
        "colab": {
          "base_uri": "https://localhost:8080/"
        },
        "id": "wORhkEfLFY_M",
        "outputId": "1a32f1c6-e1a1-4615-acec-ba85b29d5405"
      },
      "execution_count": null,
      "outputs": [
        {
          "output_type": "execute_result",
          "data": {
            "text/plain": [
              "(tensor([[[ 0,  1],\n",
              "          [ 2,  3],\n",
              "          [ 4,  5]],\n",
              " \n",
              "         [[ 6,  7],\n",
              "          [ 8,  9],\n",
              "          [10, 11]]]),\n",
              " <function Tensor.size>,\n",
              " torch.Size([2, 3, 2]))"
            ]
          },
          "metadata": {},
          "execution_count": 113
        }
      ]
    },
    {
      "cell_type": "code",
      "source": [
        "#View\n",
        "view = A.view(1,12)\n",
        "view , view.shape , view.size"
      ],
      "metadata": {
        "colab": {
          "base_uri": "https://localhost:8080/"
        },
        "id": "qPQBhsEXF05N",
        "outputId": "a960a1f2-cba5-400b-d6dc-5148219f2ff2"
      },
      "execution_count": null,
      "outputs": [
        {
          "output_type": "execute_result",
          "data": {
            "text/plain": [
              "(tensor([[ 0,  1,  2,  3,  4,  5,  6,  7,  8,  9, 10, 11]]),\n",
              " torch.Size([1, 12]),\n",
              " <function Tensor.size>)"
            ]
          },
          "metadata": {},
          "execution_count": 95
        }
      ]
    },
    {
      "cell_type": "code",
      "source": [
        "\n",
        "print(f\"A before {A} and view{view}\")\n",
        "view[:,3] = 4667\n",
        "print(f\"A after {A} and view {view}\")"
      ],
      "metadata": {
        "colab": {
          "base_uri": "https://localhost:8080/"
        },
        "id": "SIZ5Uu2SGyru",
        "outputId": "dcb602b6-63a6-41ad-cf64-bfc85738e646"
      },
      "execution_count": null,
      "outputs": [
        {
          "output_type": "stream",
          "name": "stdout",
          "text": [
            "A before tensor([ 0,  1,  2,  4,  4,  5,  6,  7,  8,  9, 10, 11]) and viewtensor([[ 0,  1,  2,  4,  4,  5,  6,  7,  8,  9, 10, 11]])\n",
            "A after tensor([   0,    1,    2, 4667,    4,    5,    6,    7,    8,    9,   10,   11]) and view tensor([[   0,    1,    2, 4667,    4,    5,    6,    7,    8,    9,   10,   11]])\n"
          ]
        }
      ]
    },
    {
      "cell_type": "code",
      "source": [
        "#Stacking tensor\n",
        "\n",
        "stack  = torch.stack([A,A,A,A],dim = 1)\n",
        "stack"
      ],
      "metadata": {
        "colab": {
          "base_uri": "https://localhost:8080/"
        },
        "id": "38NYSxFdHU10",
        "outputId": "42f21605-251c-4d79-ac78-c52d3aa57b2c"
      },
      "execution_count": null,
      "outputs": [
        {
          "output_type": "execute_result",
          "data": {
            "text/plain": [
              "tensor([[   0,    0,    0,    0],\n",
              "        [   1,    1,    1,    1],\n",
              "        [   2,    2,    2,    2],\n",
              "        [4667, 4667, 4667, 4667],\n",
              "        [   4,    4,    4,    4],\n",
              "        [   5,    5,    5,    5],\n",
              "        [   6,    6,    6,    6],\n",
              "        [   7,    7,    7,    7],\n",
              "        [   8,    8,    8,    8],\n",
              "        [   9,    9,    9,    9],\n",
              "        [  10,   10,   10,   10],\n",
              "        [  11,   11,   11,   11]])"
            ]
          },
          "metadata": {},
          "execution_count": 106
        }
      ]
    },
    {
      "cell_type": "code",
      "source": [
        "A= A.reshape((1,2,3,2,1))\n",
        "print(f\"Before squeeze {A.shape}\")\n",
        "A = A.squeeze()\n",
        "print(f\"After squeeze {A.shape}\")"
      ],
      "metadata": {
        "colab": {
          "base_uri": "https://localhost:8080/"
        },
        "id": "2aIVW9i7ITaJ",
        "outputId": "c7cffcee-1a20-442a-b2b5-94f962cdbd71"
      },
      "execution_count": null,
      "outputs": [
        {
          "output_type": "stream",
          "name": "stdout",
          "text": [
            "Before squeeze torch.Size([1, 2, 3, 2, 1])\n",
            "After squeeze torch.Size([2, 3, 2])\n"
          ]
        }
      ]
    },
    {
      "cell_type": "code",
      "source": [
        "A.unsqueeze(dim = 0).shape"
      ],
      "metadata": {
        "colab": {
          "base_uri": "https://localhost:8080/"
        },
        "id": "8paURZmQIjz0",
        "outputId": "75a19a11-cc0f-4ad5-8cd2-d9eae2829bad"
      },
      "execution_count": null,
      "outputs": [
        {
          "output_type": "execute_result",
          "data": {
            "text/plain": [
              "torch.Size([1, 2, 3, 2])"
            ]
          },
          "metadata": {},
          "execution_count": 117
        }
      ]
    },
    {
      "cell_type": "code",
      "source": [
        "# to rearrange the dimensions\n",
        "\n",
        "A.shape , A.permute((2,0,1)).shape"
      ],
      "metadata": {
        "colab": {
          "base_uri": "https://localhost:8080/"
        },
        "id": "OIF69Tn5J3gm",
        "outputId": "d838ad5d-1bb9-4b26-a127-42199c1b3bb4"
      },
      "execution_count": null,
      "outputs": [
        {
          "output_type": "execute_result",
          "data": {
            "text/plain": [
              "(torch.Size([2, 3, 2]), torch.Size([2, 2, 3]))"
            ]
          },
          "metadata": {},
          "execution_count": 122
        }
      ]
    },
    {
      "cell_type": "code",
      "source": [
        "# indexing\n",
        "\n",
        "A = torch.randint(0,10,(2,2,3))\n",
        "\n",
        "A"
      ],
      "metadata": {
        "id": "oFAoJs30KIWZ",
        "colab": {
          "base_uri": "https://localhost:8080/"
        },
        "outputId": "3ae810a5-fded-4bac-aa07-9000758606a5"
      },
      "execution_count": null,
      "outputs": [
        {
          "output_type": "execute_result",
          "data": {
            "text/plain": [
              "tensor([[[1, 3, 4],\n",
              "         [9, 1, 7]],\n",
              "\n",
              "        [[6, 0, 2],\n",
              "         [5, 5, 1]]])"
            ]
          },
          "metadata": {},
          "execution_count": 130
        }
      ]
    },
    {
      "cell_type": "code",
      "source": [
        "A[0]"
      ],
      "metadata": {
        "colab": {
          "base_uri": "https://localhost:8080/"
        },
        "id": "UTjwR5T2YJRU",
        "outputId": "c0a47b42-bc0f-45d3-fefd-bb0abb4243ba"
      },
      "execution_count": null,
      "outputs": [
        {
          "output_type": "execute_result",
          "data": {
            "text/plain": [
              "tensor([[1, 3, 4],\n",
              "        [9, 1, 7]])"
            ]
          },
          "metadata": {},
          "execution_count": 131
        }
      ]
    },
    {
      "cell_type": "code",
      "source": [
        "A[0][0]"
      ],
      "metadata": {
        "colab": {
          "base_uri": "https://localhost:8080/"
        },
        "id": "hPgfKiVjYCnr",
        "outputId": "198cb591-827a-4da5-a02f-2102f161ca03"
      },
      "execution_count": null,
      "outputs": [
        {
          "output_type": "execute_result",
          "data": {
            "text/plain": [
              "tensor([1, 5, 7])"
            ]
          },
          "metadata": {},
          "execution_count": 125
        }
      ]
    },
    {
      "cell_type": "code",
      "source": [
        "A[0][0][1]"
      ],
      "metadata": {
        "colab": {
          "base_uri": "https://localhost:8080/"
        },
        "id": "0At_QGbaYERV",
        "outputId": "31a555f0-ecf0-49b5-85e9-8ca977a1fa3d"
      },
      "execution_count": null,
      "outputs": [
        {
          "output_type": "execute_result",
          "data": {
            "text/plain": [
              "tensor(5)"
            ]
          },
          "metadata": {},
          "execution_count": 126
        }
      ]
    },
    {
      "cell_type": "code",
      "source": [
        "A[:][:][:]\n"
      ],
      "metadata": {
        "colab": {
          "base_uri": "https://localhost:8080/"
        },
        "id": "hRh7Ck7PYGRk",
        "outputId": "1ce1ebbf-af49-40da-bffd-b967a3e772ad"
      },
      "execution_count": null,
      "outputs": [
        {
          "output_type": "execute_result",
          "data": {
            "text/plain": [
              "tensor([[[1, 3, 4],\n",
              "         [9, 1, 7]],\n",
              "\n",
              "        [[6, 0, 2],\n",
              "         [5, 5, 1]]])"
            ]
          },
          "metadata": {},
          "execution_count": 136
        }
      ]
    },
    {
      "cell_type": "code",
      "source": [
        "# get all values of the 0th and 1st dimension but only 1 of the 2nd dimension\n",
        "\n",
        "A[:,:,1]"
      ],
      "metadata": {
        "colab": {
          "base_uri": "https://localhost:8080/"
        },
        "id": "Law_I-1vYPED",
        "outputId": "5ec2efc1-f234-4144-a510-57d6a168fcca"
      },
      "execution_count": null,
      "outputs": [
        {
          "output_type": "execute_result",
          "data": {
            "text/plain": [
              "tensor([[3, 1],\n",
              "        [0, 5]])"
            ]
          },
          "metadata": {},
          "execution_count": 138
        }
      ]
    },
    {
      "cell_type": "code",
      "source": [
        "import matplotlib.pyplot as plt\n",
        "def visualizeTensor(tensor):\n",
        "  # Visualize the tensor\n",
        "  plt.figure(figsize=(8, 6))\n",
        "  plt.imshow(tensor.numpy(), cmap=\"viridis\", aspect=\"auto\")  # Use a colormap for better visualization\n",
        "  plt.colorbar()  # Add a color bar for reference\n",
        "\n",
        "  # Annotate each cell with the number\n",
        "  for i in range(tensor.size(0)):  # Iterate over rows\n",
        "      for j in range(tensor.size(1)):  # Iterate over columns\n",
        "          plt.text(j, i, f\"{tensor[i, j].item()}\", ha=\"center\", va=\"center\", color=\"white\")\n",
        "\n",
        "  plt.title(\"Tensor in Matrix Form with Values\")\n",
        "  plt.xlabel(\"Columns\")\n",
        "  plt.ylabel(\"Rows\")\n",
        "  plt.show()\n",
        "\n",
        "\n",
        "def visualize3dTensor(tensor_3d):\n",
        "  # Visualize each slice\n",
        "  num_slices = tensor_3d.size(0)  # Number of slices (depth)\n",
        "  fig, axes = plt.subplots(1, num_slices, figsize=(15, 5))\n",
        "\n",
        "  for idx in range(num_slices):\n",
        "      ax = axes[idx] if num_slices > 1 else axes  # Handle single slice\n",
        "      ax.imshow(tensor_3d[idx].numpy(), cmap=\"viridis\", aspect=\"auto\")\n",
        "      ax.set_title(f\"Slice {idx + 1}\")\n",
        "      ax.set_xlabel(\"Columns\")\n",
        "      ax.set_ylabel(\"Rows\")\n",
        "\n",
        "      # Annotate each cell with the number\n",
        "      for i in range(tensor_3d.size(1)):  # Iterate over rows\n",
        "          for j in range(tensor_3d.size(2)):  # Iterate over columns\n",
        "              ax.text(j, i, f\"{tensor_3d[idx, i, j].item()}\", ha=\"center\", va=\"center\", color=\"white\")\n",
        "\n",
        "  plt.tight_layout()\n",
        "  plt.show()"
      ],
      "metadata": {
        "id": "OwxwGq8AYl9-"
      },
      "execution_count": null,
      "outputs": []
    },
    {
      "cell_type": "code",
      "source": [
        "\n",
        "B = torch.randint(0,10,(2,3))\n",
        "visualizeTensor(B)\n",
        "B\n"
      ],
      "metadata": {
        "colab": {
          "base_uri": "https://localhost:8080/",
          "height": 601
        },
        "id": "sWQH6kaqZWlZ",
        "outputId": "370d6d75-37a5-4424-fcdc-b3ed3ca088c5"
      },
      "execution_count": null,
      "outputs": [
        {
          "output_type": "display_data",
          "data": {
            "text/plain": [
              "<Figure size 800x600 with 2 Axes>"
            ],
            "image/png": "[encoded data removed]"
          },
          "metadata": {}
        },
        {
          "output_type": "execute_result",
          "data": {
            "text/plain": [
              "tensor([[2, 0, 8],\n",
              "        [4, 0, 5]])"
            ]
          },
          "metadata": {},
          "execution_count": 141
        }
      ]
    },
    {
      "cell_type": "code",
      "source": [
        "A, visualize3dTensor(A)"
      ],
      "metadata": {
        "colab": {
          "base_uri": "https://localhost:8080/",
          "height": 362
        },
        "id": "pwjl_DZVZlDW",
        "outputId": "1629fafa-1c66-401b-b91a-4e71ee788f8d"
      },
      "execution_count": null,
      "outputs": [
        {
          "output_type": "display_data",
          "data": {
            "text/plain": [
              "<Figure size 1500x500 with 2 Axes>"
            ],
            "image/png": "[encoded data removed]"
          },
          "metadata": {}
        },
        {
          "output_type": "execute_result",
          "data": {
            "text/plain": [
              "(tensor([[[1, 3, 4],\n",
              "          [9, 1, 7]],\n",
              " \n",
              "         [[6, 0, 2],\n",
              "          [5, 5, 1]]]),\n",
              " None)"
            ]
          },
          "metadata": {},
          "execution_count": 143
        }
      ]
    },
    {
      "cell_type": "code",
      "source": [
        "A[:,:,2]"
      ],
      "metadata": {
        "colab": {
          "base_uri": "https://localhost:8080/"
        },
        "id": "eOy4O77WZ5Qt",
        "outputId": "8c3b751d-11f4-44de-876f-b6545c459020"
      },
      "execution_count": null,
      "outputs": [
        {
          "output_type": "execute_result",
          "data": {
            "text/plain": [
              "tensor([[4, 7],\n",
              "        [2, 1]])"
            ]
          },
          "metadata": {},
          "execution_count": 144
        }
      ]
    },
    {
      "cell_type": "code",
      "source": [
        "A[:,1,1]"
      ],
      "metadata": {
        "colab": {
          "base_uri": "https://localhost:8080/"
        },
        "id": "R4yuHsXSZ97M",
        "outputId": "7e8b9158-2a8f-40ee-eaf7-29e920a621c7"
      },
      "execution_count": null,
      "outputs": [
        {
          "output_type": "execute_result",
          "data": {
            "text/plain": [
              "tensor([1, 5])"
            ]
          },
          "metadata": {},
          "execution_count": 145
        }
      ]
    },
    {
      "cell_type": "code",
      "source": [
        "# Pytorch Tensors and numpy\n",
        "import numpy as np\n",
        "\n",
        "array = np.random.random((3,2))\n",
        "tensor = torch.from_numpy(array)\n",
        "tensor\n"
      ],
      "metadata": {
        "colab": {
          "base_uri": "https://localhost:8080/"
        },
        "id": "g1bZG3noaPqD",
        "outputId": "4d135f58-d435-4cc1-ad6f-6b5d16316675"
      },
      "execution_count": null,
      "outputs": [
        {
          "output_type": "execute_result",
          "data": {
            "text/plain": [
              "tensor([[0.8934, 0.9770],\n",
              "        [0.6295, 0.2444],\n",
              "        [0.6024, 0.2795]], dtype=torch.float64)"
            ]
          },
          "metadata": {},
          "execution_count": 162
        }
      ]
    },
    {
      "cell_type": "code",
      "source": [
        "array[0][1] = 234\n",
        "tensor==array"
      ],
      "metadata": {
        "colab": {
          "base_uri": "https://localhost:8080/"
        },
        "id": "fkRMq30la_lo",
        "outputId": "46a25c5f-1a14-4de7-8925-290bba9a1b0e"
      },
      "execution_count": null,
      "outputs": [
        {
          "output_type": "execute_result",
          "data": {
            "text/plain": [
              "tensor([[True, True],\n",
              "        [True, True],\n",
              "        [True, True]])"
            ]
          },
          "metadata": {},
          "execution_count": 163
        }
      ]
    },
    {
      "cell_type": "code",
      "source": [
        "# we can see any change in the array changes the value inside the tensor too"
      ],
      "metadata": {
        "id": "Y-qsthGbb8E6"
      },
      "execution_count": null,
      "outputs": []
    },
    {
      "cell_type": "code",
      "source": [
        "tensor = torch.rand(2,3)\n",
        "array = tensor.numpy()\n",
        "array,tensor"
      ],
      "metadata": {
        "colab": {
          "base_uri": "https://localhost:8080/"
        },
        "id": "oyhS7t3zcJoD",
        "outputId": "0d677a1f-c4d7-454e-d4ec-1799172f8d20"
      },
      "execution_count": null,
      "outputs": [
        {
          "output_type": "execute_result",
          "data": {
            "text/plain": [
              "(array([[0.38247442, 0.20362276, 0.17832077],\n",
              "        [0.1339466 , 0.8024841 , 0.8276594 ]], dtype=float32),\n",
              " tensor([[0.3825, 0.2036, 0.1783],\n",
              "         [0.1339, 0.8025, 0.8277]]))"
            ]
          },
          "metadata": {},
          "execution_count": 165
        }
      ]
    },
    {
      "cell_type": "code",
      "source": [
        "array[0] = 100\n",
        "tensor==array"
      ],
      "metadata": {
        "colab": {
          "base_uri": "https://localhost:8080/"
        },
        "id": "b-TwA6XicU2E",
        "outputId": "b4156977-675c-4bac-f347-bb595d7c7600"
      },
      "execution_count": null,
      "outputs": [
        {
          "output_type": "execute_result",
          "data": {
            "text/plain": [
              "tensor([[True, True, True],\n",
              "        [True, True, True]])"
            ]
          },
          "metadata": {},
          "execution_count": 166
        }
      ]
    },
    {
      "cell_type": "code",
      "source": [
        "# change in tensor affects numpy and change in the numpy affects tensor"
      ],
      "metadata": {
        "id": "5jIaNlbVcYpR"
      },
      "execution_count": null,
      "outputs": []
    },
    {
      "cell_type": "code",
      "source": [
        "#reproducability(taking out the randomness out of the random)\n",
        "\n",
        "# to reduce the randomness we use the random seed\n",
        "\n",
        "A = torch.rand(2,3)\n",
        "B = torch.rand(2,3)\n",
        "A==B"
      ],
      "metadata": {
        "colab": {
          "base_uri": "https://localhost:8080/"
        },
        "id": "QIl5rVJJcnS6",
        "outputId": "e82e2564-7085-4e6b-dc5c-a7b491e712f4"
      },
      "execution_count": null,
      "outputs": [
        {
          "output_type": "execute_result",
          "data": {
            "text/plain": [
              "tensor([[False, False, False],\n",
              "        [False, False, False]])"
            ]
          },
          "metadata": {},
          "execution_count": 168
        }
      ]
    },
    {
      "cell_type": "code",
      "source": [
        "RANDOM_SEED = 42\n",
        "torch.manual_seed(RANDOM_SEED)\n",
        "A = torch.rand(2,3)\n",
        "torch.manual_seed(RANDOM_SEED)\n",
        "B = torch.rand(2,3)\n",
        "A==B"
      ],
      "metadata": {
        "colab": {
          "base_uri": "https://localhost:8080/"
        },
        "id": "_4kYJ-g2dCVC",
        "outputId": "dc343e75-938f-4a1b-ac84-c074b26a1ff5"
      },
      "execution_count": null,
      "outputs": [
        {
          "output_type": "execute_result",
          "data": {
            "text/plain": [
              "tensor([[True, True, True],\n",
              "        [True, True, True]])"
            ]
          },
          "metadata": {},
          "execution_count": 170
        }
      ]
    },
    {
      "cell_type": "code",
      "source": [
        "# check the device\n",
        "torch.cuda.is_available()"
      ],
      "metadata": {
        "colab": {
          "base_uri": "https://localhost:8080/"
        },
        "id": "IoaCGVMwdXVi",
        "outputId": "71621da1-2120-4a74-81b6-368e359fd0c1"
      },
      "execution_count": null,
      "outputs": [
        {
          "output_type": "execute_result",
          "data": {
            "text/plain": [
              "False"
            ]
          },
          "metadata": {},
          "execution_count": 171
        }
      ]
    },
    {
      "cell_type": "code",
      "source": [],
      "metadata": {
        "id": "ewZPQS9qe44b"
      },
      "execution_count": null,
      "outputs": []
    }
  ]
}